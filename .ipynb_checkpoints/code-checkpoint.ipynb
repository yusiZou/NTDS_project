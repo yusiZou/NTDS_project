{
 "cells": [
  {
   "cell_type": "markdown",
   "metadata": {},
   "source": [
    "# Title"
   ]
  },
  {
   "cell_type": "markdown",
   "metadata": {},
   "source": [
    "# Abstract"
   ]
  },
  {
   "cell_type": "markdown",
   "metadata": {},
   "source": [
    "# Table of contents <a name=\"TOC\"></a>\n",
    "1. [Introduction](#intro)\n",
    "2. [Data aquisition](#data-aquisition)\n",
    "3. [Data exploration](#data-exploration)"
   ]
  },
  {
   "cell_type": "markdown",
   "metadata": {},
   "source": [
    "# Introduction <a name=\"intro\"></a>"
   ]
  },
  {
   "cell_type": "markdown",
   "metadata": {},
   "source": [
    "[Go back to the top](#TOC)"
   ]
  },
  {
   "cell_type": "markdown",
   "metadata": {},
   "source": [
    "# Data acquisition <a name=\"data-aquisition\"></a>"
   ]
  },
  {
   "cell_type": "code",
   "execution_count": 5,
   "metadata": {},
   "outputs": [],
   "source": [
    "import pandas as pd\n",
    "import numpy as np"
   ]
  },
  {
   "cell_type": "markdown",
   "metadata": {},
   "source": [
    "[Go back to the top](#TOC)"
   ]
  },
  {
   "cell_type": "code",
   "execution_count": 1,
   "metadata": {},
   "outputs": [],
   "source": [
    "PATH = \"TerrorAttack/\""
   ]
  },
  {
   "cell_type": "code",
   "execution_count": 6,
   "metadata": {},
   "outputs": [],
   "source": [
    "edges_org = pd.read_csv(PATH +'terrorist_attack_loc_org.edges', sep=' ', header=None)\n",
    "edges = pd.read_csv(PATH +'terrorist_attack_loc.edges', sep=' ', header=None)\n",
    "labels = pd.read_csv(PATH +'terrorist_attack.labels', sep=' ', header=None)\n",
    "nodes = pd.read_csv(PATH +'terrorist_attack.nodes', sep='\\t', header=None)"
   ]
  },
  {
   "cell_type": "code",
   "execution_count": 28,
   "metadata": {},
   "outputs": [
    {
     "data": {
      "text/plain": [
       "'http://counterterror.mindswap.org/2005/ict_events.owl#No_Affiliation_20020917'"
      ]
     },
     "execution_count": 28,
     "metadata": {},
     "output_type": "execute_result"
    }
   ],
   "source": [
    "edges[0][275]"
   ]
  },
  {
   "cell_type": "code",
   "execution_count": 40,
   "metadata": {},
   "outputs": [
    {
     "data": {
      "text/html": [
       "<div>\n",
       "<style scoped>\n",
       "    .dataframe tbody tr th:only-of-type {\n",
       "        vertical-align: middle;\n",
       "    }\n",
       "\n",
       "    .dataframe tbody tr th {\n",
       "        vertical-align: top;\n",
       "    }\n",
       "\n",
       "    .dataframe thead th {\n",
       "        text-align: right;\n",
       "    }\n",
       "</style>\n",
       "<table border=\"1\" class=\"dataframe\">\n",
       "  <thead>\n",
       "    <tr style=\"text-align: right;\">\n",
       "      <th></th>\n",
       "      <th>0</th>\n",
       "      <th>1</th>\n",
       "    </tr>\n",
       "  </thead>\n",
       "  <tbody>\n",
       "    <tr>\n",
       "      <th>0</th>\n",
       "      <td>http://counterterror.mindswap.org/2005/ict_eve...</td>\n",
       "      <td>http://counterterror.mindswap.org/2005/ict_eve...</td>\n",
       "    </tr>\n",
       "    <tr>\n",
       "      <th>1</th>\n",
       "      <td>http://counterterror.mindswap.org/2005/ict_eve...</td>\n",
       "      <td>http://counterterror.mindswap.org/2005/ict_eve...</td>\n",
       "    </tr>\n",
       "    <tr>\n",
       "      <th>2</th>\n",
       "      <td>http://counterterror.mindswap.org/2005/ict_eve...</td>\n",
       "      <td>http://counterterror.mindswap.org/2005/ict_eve...</td>\n",
       "    </tr>\n",
       "    <tr>\n",
       "      <th>3</th>\n",
       "      <td>http://counterterror.mindswap.org/2005/ict_eve...</td>\n",
       "      <td>http://counterterror.mindswap.org/2005/ict_eve...</td>\n",
       "    </tr>\n",
       "    <tr>\n",
       "      <th>4</th>\n",
       "      <td>http://counterterror.mindswap.org/2005/ict_eve...</td>\n",
       "      <td>http://counterterror.mindswap.org/2005/ict_eve...</td>\n",
       "    </tr>\n",
       "  </tbody>\n",
       "</table>\n",
       "</div>"
      ],
      "text/plain": [
       "                                                   0  \\\n",
       "0  http://counterterror.mindswap.org/2005/ict_eve...   \n",
       "1  http://counterterror.mindswap.org/2005/ict_eve...   \n",
       "2  http://counterterror.mindswap.org/2005/ict_eve...   \n",
       "3  http://counterterror.mindswap.org/2005/ict_eve...   \n",
       "4  http://counterterror.mindswap.org/2005/ict_eve...   \n",
       "\n",
       "                                                   1  \n",
       "0  http://counterterror.mindswap.org/2005/ict_eve...  \n",
       "1  http://counterterror.mindswap.org/2005/ict_eve...  \n",
       "2  http://counterterror.mindswap.org/2005/ict_eve...  \n",
       "3  http://counterterror.mindswap.org/2005/ict_eve...  \n",
       "4  http://counterterror.mindswap.org/2005/ict_eve...  "
      ]
     },
     "execution_count": 40,
     "metadata": {},
     "output_type": "execute_result"
    }
   ],
   "source": [
    "edges.head()"
   ]
  },
  {
   "cell_type": "markdown",
   "metadata": {},
   "source": [
    "### organizations"
   ]
  },
  {
   "cell_type": "code",
   "execution_count": null,
   "metadata": {
    "collapsed": true
   },
   "outputs": [],
   "source": []
  },
  {
   "cell_type": "code",
   "execution_count": 76,
   "metadata": {},
   "outputs": [
    {
     "data": {
      "text/plain": [
       "0                 United_Popular_Action_Movement_19930513\n",
       "1                                        Unknown_19961112\n",
       "2                                        Unknown_19980428\n",
       "3                       Kurdistan_Worker_s_Party_19970325\n",
       "4                                        Unknown_19990314\n",
       "5                                        Unknown_19970613\n",
       "6                                        Unknown_19990618\n",
       "7                                        Unknown_19931029\n",
       "8                                        Unknown_19961231\n",
       "9                                        Unknown_19951110\n",
       "10                      Kurdistan_Worker_s_Party_19980410\n",
       "11                                       Unknown_19980514\n",
       "12                                       Unknown_19950522\n",
       "13                      Kurdistan_Worker_s_Party_19950820\n",
       "14                                    Chukaku-Ha_19980602\n",
       "15                              Abu_Sayyaf_Group_19990103\n",
       "16                                       Unknown_19930307\n",
       "17                                       Unknown_19970706\n",
       "18                                       Unknown_19981119\n",
       "19                                       Unknown_19980430\n",
       "20        Revolutionary_Organization_17_November_19991004\n",
       "21                                       Unknown_19970807\n",
       "22                                       Unknown_20000904\n",
       "23                                       Unknown_19950905\n",
       "24      Democratic_Front_for_the_Liberation_of_Palesti...\n",
       "25                                   Jihad_Group_19961117\n",
       "26                                       Unknown_19890618\n",
       "27                                       Unknown_20000827\n",
       "28                                       Unknown_19980702\n",
       "29                                       Unknown_19960914\n",
       "                              ...                        \n",
       "1263    Democratic_Front_for_the_Liberation_of_Palesti...\n",
       "1264                                Fatah_Tanzim_20011018\n",
       "1265                                     Unknown_19970516\n",
       "1266                                     Unknown_19970112\n",
       "1267                                     Unknown_19980811\n",
       "1268                                     Unknown_19980617\n",
       "1269                 Basque_Homeland_and_Freedom_20001010\n",
       "1270                                       Fatah_19780311\n",
       "1271                      Al-Gama_a_al-Islamiyya_19951108\n",
       "1272                                Fatah_Tanzim_20010523\n",
       "1273                                       Fatah_20011127\n",
       "1274                                     Unknown_20020924\n",
       "1275                                     Unknown_19940707\n",
       "1276                                     Unknown_20010719\n",
       "1277                                       Hamas_19920517\n",
       "1278                      Al-Gama_a_al-Islamiyya_19940219\n",
       "1279      Revolutionary_Organization_17_November_19911007\n",
       "1280                          Martyrs_of_al-Aqsa_20010807\n",
       "1281                          Martyrs_of_al-Aqsa_20021110\n",
       "1282                             Lashkar-e-Toiba_20021124\n",
       "1283                                     Unknown_20020122\n",
       "1284                                     Unknown_19941023\n",
       "1285                                     Unknown_19910806\n",
       "1286                                       Hamas_19940213\n",
       "1287                      Al-Gama_a_al-Islamiyya_19930420\n",
       "1288    Popular_Front_for_the_Liberation_of_Palestine_...\n",
       "1289                                     Unknown_19980603\n",
       "1290                                     Unknown_20020714\n",
       "1291                                       Fatah_19850627\n",
       "1292                                       Hamas_20020608\n",
       "Name: 0, Length: 1293, dtype: object"
      ]
     },
     "execution_count": 76,
     "metadata": {},
     "output_type": "execute_result"
    }
   ],
   "source": [
    "nodes[0].apply(lambda x : (x.split(\"#\"))[1])"
   ]
  },
  {
   "cell_type": "code",
   "execution_count": 74,
   "metadata": {},
   "outputs": [
    {
     "ename": "AttributeError",
     "evalue": "'Series' object has no attribute 'concat'",
     "output_type": "error",
     "traceback": [
      "\u001b[1;31m---------------------------------------------------------------------------\u001b[0m",
      "\u001b[1;31mAttributeError\u001b[0m                            Traceback (most recent call last)",
      "\u001b[1;32m<ipython-input-74-eff81feb75fe>\u001b[0m in \u001b[0;36m<module>\u001b[1;34m()\u001b[0m\n\u001b[1;32m----> 1\u001b[1;33m \u001b[0mnodes_info\u001b[0m \u001b[1;33m=\u001b[0m \u001b[1;33m(\u001b[0m\u001b[0mnodes\u001b[0m\u001b[1;33m[\u001b[0m\u001b[1;36m0\u001b[0m\u001b[1;33m]\u001b[0m\u001b[1;33m.\u001b[0m\u001b[0mconcat\u001b[0m\u001b[1;33m(\u001b[0m\u001b[0mnodes\u001b[0m\u001b[1;33m[\u001b[0m\u001b[1;36m1\u001b[0m\u001b[1;33m]\u001b[0m\u001b[1;33m)\u001b[0m\u001b[1;33m)\u001b[0m\u001b[1;33m.\u001b[0m\u001b[0munique\u001b[0m\u001b[1;33m(\u001b[0m\u001b[1;33m)\u001b[0m\u001b[1;33m.\u001b[0m\u001b[0mapply\u001b[0m\u001b[1;33m(\u001b[0m\u001b[1;32mlambda\u001b[0m \u001b[0mx\u001b[0m \u001b[1;33m:\u001b[0m \u001b[1;33m(\u001b[0m\u001b[0mx\u001b[0m\u001b[1;33m.\u001b[0m\u001b[0msplit\u001b[0m\u001b[1;33m(\u001b[0m\u001b[1;34m\"#\"\u001b[0m\u001b[1;33m)\u001b[0m\u001b[1;33m)\u001b[0m\u001b[1;33m[\u001b[0m\u001b[1;36m1\u001b[0m\u001b[1;33m]\u001b[0m\u001b[1;33m)\u001b[0m\u001b[1;33m\u001b[0m\u001b[0m\n\u001b[0m\u001b[0;32m      2\u001b[0m \u001b[0mdates\u001b[0m\u001b[1;33m=\u001b[0m \u001b[0mnodes_info\u001b[0m\u001b[1;33m.\u001b[0m\u001b[0mapply\u001b[0m\u001b[1;33m(\u001b[0m\u001b[1;32mlambda\u001b[0m \u001b[0mx\u001b[0m \u001b[1;33m:\u001b[0m \u001b[0mx\u001b[0m\u001b[1;33m[\u001b[0m\u001b[1;33m-\u001b[0m\u001b[1;36m8\u001b[0m\u001b[1;33m:\u001b[0m\u001b[1;33m]\u001b[0m\u001b[1;33m)\u001b[0m\u001b[1;33m\u001b[0m\u001b[0m\n\u001b[0;32m      3\u001b[0m \u001b[0morganizations\u001b[0m \u001b[1;33m=\u001b[0m \u001b[0mnodes_info\u001b[0m\u001b[1;33m.\u001b[0m\u001b[0mapply\u001b[0m\u001b[1;33m(\u001b[0m\u001b[1;32mlambda\u001b[0m \u001b[0mx\u001b[0m \u001b[1;33m:\u001b[0m \u001b[0mx\u001b[0m\u001b[1;33m[\u001b[0m\u001b[1;33m:\u001b[0m\u001b[1;33m-\u001b[0m\u001b[1;36m9\u001b[0m\u001b[1;33m]\u001b[0m\u001b[1;33m)\u001b[0m\u001b[1;33m\u001b[0m\u001b[0m\n",
      "\u001b[1;32m~\\Anaconda3\\lib\\site-packages\\pandas\\core\\generic.py\u001b[0m in \u001b[0;36m__getattr__\u001b[1;34m(self, name)\u001b[0m\n\u001b[0;32m   4374\u001b[0m             \u001b[1;32mif\u001b[0m \u001b[0mself\u001b[0m\u001b[1;33m.\u001b[0m\u001b[0m_info_axis\u001b[0m\u001b[1;33m.\u001b[0m\u001b[0m_can_hold_identifiers_and_holds_name\u001b[0m\u001b[1;33m(\u001b[0m\u001b[0mname\u001b[0m\u001b[1;33m)\u001b[0m\u001b[1;33m:\u001b[0m\u001b[1;33m\u001b[0m\u001b[0m\n\u001b[0;32m   4375\u001b[0m                 \u001b[1;32mreturn\u001b[0m \u001b[0mself\u001b[0m\u001b[1;33m[\u001b[0m\u001b[0mname\u001b[0m\u001b[1;33m]\u001b[0m\u001b[1;33m\u001b[0m\u001b[0m\n\u001b[1;32m-> 4376\u001b[1;33m             \u001b[1;32mreturn\u001b[0m \u001b[0mobject\u001b[0m\u001b[1;33m.\u001b[0m\u001b[0m__getattribute__\u001b[0m\u001b[1;33m(\u001b[0m\u001b[0mself\u001b[0m\u001b[1;33m,\u001b[0m \u001b[0mname\u001b[0m\u001b[1;33m)\u001b[0m\u001b[1;33m\u001b[0m\u001b[0m\n\u001b[0m\u001b[0;32m   4377\u001b[0m \u001b[1;33m\u001b[0m\u001b[0m\n\u001b[0;32m   4378\u001b[0m     \u001b[1;32mdef\u001b[0m \u001b[0m__setattr__\u001b[0m\u001b[1;33m(\u001b[0m\u001b[0mself\u001b[0m\u001b[1;33m,\u001b[0m \u001b[0mname\u001b[0m\u001b[1;33m,\u001b[0m \u001b[0mvalue\u001b[0m\u001b[1;33m)\u001b[0m\u001b[1;33m:\u001b[0m\u001b[1;33m\u001b[0m\u001b[0m\n",
      "\u001b[1;31mAttributeError\u001b[0m: 'Series' object has no attribute 'concat'"
     ]
    }
   ],
   "source": [
    "nodes_info = (nodes[0].concat(nodes[1])).unique().apply(lambda x : (x.split(\"#\"))[1])\n",
    "dates= nodes_info.apply(lambda x : x[-8:])\n",
    "organizations = nodes_info.apply(lambda x : x[:-9])"
   ]
  },
  {
   "cell_type": "code",
   "execution_count": 66,
   "metadata": {},
   "outputs": [],
   "source": [
    "attacks_dict = {\"organization\": organizations, \"date\": dates}\n",
    "attacks = pd.DataFrame(attacks_dict)"
   ]
  },
  {
   "cell_type": "code",
   "execution_count": 71,
   "metadata": {},
   "outputs": [
    {
     "data": {
      "text/plain": [
       "Unknown                                           519\n",
       "Hamas                                              99\n",
       "Fatah_Tanzim                                       52\n",
       "Palestinian_Islamic_Jihad                          50\n",
       "                                                   48\n",
       "Basque_Homeland_and_Freedom                        46\n",
       "Martyrs_of_al-Aqsa                                 45\n",
       "National_Liberation_Army_Colombia                  37\n",
       "Fatah                                              34\n",
       "Revolutionary_Armed_Forces_of_Colombia             34\n",
       "Kurdistan_Worker_s_Party                           29\n",
       "Liberation_Tigers_of_Tamil_Eelam                   25\n",
       "Armed_Islamic_Group                                21\n",
       "Sendero_Luminoso                                   20\n",
       "Revolutionary_Organization_17_November             17\n",
       "Irish_Republican_Army                              15\n",
       "Popular_Front_for_the_Liberation_of_Palestine      13\n",
       "Al-Gama_a_al-Islamiyya                             13\n",
       "Al-Qa_ida                                          12\n",
       "Abu_Sayyaf_Group                                   11\n",
       "Hizballah                                          10\n",
       "No_Affiliation                                      7\n",
       "New_People_s_Army                                   7\n",
       "Force_17                                            7\n",
       "Revolutionary_People_s_Liberation_Party_Front       6\n",
       "Qibla_and_People_Against_Gangsterism_and_Drugs      5\n",
       "Fatah_-_Revolutionary_Council                       5\n",
       "Real_IRA                                            5\n",
       "unknown                                             5\n",
       "Aum_Shinrikyo                                       5\n",
       "                                                 ... \n",
       "Turkish_Workers_and_Peasants_Liberation_Army        1\n",
       "Recontra_380                                        1\n",
       "Van_Gogh_assa                                       1\n",
       "Passove                                             1\n",
       "Bavarian_Liberation_Army                            1\n",
       "National_Liberation_Front_of_Corsica                1\n",
       "The_Islamic_Great_Eastern_Raiders_Front             1\n",
       "Dukhtaran-E-Millat                                  1\n",
       "Breton_Revolutionary_Army                           1\n",
       "Algeti_Wolves                                       1\n",
       "Al_Faran                                            1\n",
       "Jammu_and_Kashmir                                   1\n",
       "Harakat_ul-Mujahedin                                1\n",
       "Amal                                                1\n",
       "Islamic_Movement_for_Change                         1\n",
       "Hizb-ul_Mujehideen                                  1\n",
       "First_of_October_Antifascist_Resistance_Group       1\n",
       "USEmbassybombing                                    1\n",
       "London_Bombi                                        1\n",
       "AM                                                  1\n",
       "International_Justice_Group                         1\n",
       "IsraelEmbassybomb                                   1\n",
       "Casablanca                                          1\n",
       "Mille                                               1\n",
       "Ulster_Volunteer_Force                              1\n",
       "Sikh_Terrorism                                      1\n",
       "Roubaix_Gang_plot_on_                               1\n",
       "Farabundo_Marti_National_Liberation_Front           1\n",
       "Djibouti_Youth_Movement                             1\n",
       "United_Popular_Action_Movement                      1\n",
       "Name: organization, Length: 85, dtype: int64"
      ]
     },
     "execution_count": 71,
     "metadata": {},
     "output_type": "execute_result"
    }
   ],
   "source": [
    "attacks.organization.value_counts()"
   ]
  },
  {
   "cell_type": "code",
   "execution_count": null,
   "metadata": {},
   "outputs": [],
   "source": []
  },
  {
   "cell_type": "markdown",
   "metadata": {},
   "source": [
    "# Data exploration <a name=\"data-exploration\"></a>"
   ]
  },
  {
   "cell_type": "markdown",
   "metadata": {},
   "source": [
    "[Go back to the top](#TOC)"
   ]
  },
  {
   "cell_type": "code",
   "execution_count": null,
   "metadata": {},
   "outputs": [],
   "source": []
  }
 ],
 "metadata": {
  "kernelspec": {
   "display_name": "Python 3",
   "language": "python",
   "name": "python3"
  },
  "language_info": {
   "codemirror_mode": {
    "name": "ipython",
    "version": 3
   },
   "file_extension": ".py",
   "mimetype": "text/x-python",
   "name": "python",
   "nbconvert_exporter": "python",
   "pygments_lexer": "ipython3",
   "version": "3.6.4"
  }
 },
 "nbformat": 4,
 "nbformat_minor": 2
}
