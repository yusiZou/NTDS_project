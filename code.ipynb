{
 "cells": [
  {
   "cell_type": "markdown",
   "metadata": {},
   "source": [
    "# Title"
   ]
  },
  {
   "cell_type": "markdown",
   "metadata": {},
   "source": [
    "# Abstract"
   ]
  },
  {
   "cell_type": "markdown",
   "metadata": {},
   "source": [
    "# Table of contents <a name=\"TOC\"></a>\n",
    "1. [Introduction](#intro)\n",
    "2. [Data aquisition](#data-aquisition)\n",
    "3. [Data exploration](#data-exploration)"
   ]
  },
  {
   "cell_type": "markdown",
   "metadata": {},
   "source": [
    "# Introduction <a name=\"intro\"></a>"
   ]
  },
  {
   "cell_type": "markdown",
   "metadata": {},
   "source": [
    "[Go back to the top](#TOC)"
   ]
  },
  {
   "cell_type": "markdown",
   "metadata": {},
   "source": [
    "# Data acquisition <a name=\"data-aquisition\"></a>"
   ]
  },
  {
   "cell_type": "markdown",
   "metadata": {},
   "source": [
    "[Go back to the top](#TOC)"
   ]
  },
  {
   "cell_type": "markdown",
   "metadata": {},
   "source": [
    "The data we analyse are given by the NTDS course. They can be downloaded from [here](https://linqs-data.soe.ucsc.edu/public/lbc/TerrorAttack.tgz)."
   ]
  },
  {
   "cell_type": "code",
   "execution_count": 72,
   "metadata": {},
   "outputs": [],
   "source": [
    "import pandas as pd\n",
    "import numpy as np\n",
    "from collections import Counter\n",
    "from scipy.spatial.distance import pdist, squareform\n",
    "\n",
    "import matplotlib.pyplot as plt\n",
    "import seaborn as sns; sns.set()\n",
    "\n",
    "from sklearn.linear_model import Ridge, RidgeCV\n",
    "from sklearn.cross_validation import KFold\n",
    "from sklearn.model_selection import cross_val_score\n",
    "from sklearn.multiclass import OneVsRestClassifier\n",
    "from sklearn.svm import LinearSVC"
   ]
  },
  {
   "cell_type": "code",
   "execution_count": 2,
   "metadata": {},
   "outputs": [],
   "source": [
    "PATH = \"TerrorAttack/\"\n",
    "SEED = 0"
   ]
  },
  {
   "cell_type": "code",
   "execution_count": 3,
   "metadata": {},
   "outputs": [],
   "source": [
    "# Load data\n",
    "edges_org = pd.read_csv(PATH +'terrorist_attack_loc_org.edges', sep=' ', header=None)\n",
    "edges = pd.read_csv(PATH +'terrorist_attack_loc.edges', sep=' ', header=None)\n",
    "labels = pd.read_csv(PATH +'terrorist_attack.labels', sep=' ', header=None)\n",
    "nodes = pd.read_csv(PATH +'terrorist_attack.nodes', sep='\\t', header=None)"
   ]
  },
  {
   "cell_type": "code",
   "execution_count": 4,
   "metadata": {},
   "outputs": [],
   "source": [
    "n_nodes = nodes.shape[0]"
   ]
  },
  {
   "cell_type": "markdown",
   "metadata": {},
   "source": [
    "# Data exploration <a name=\"data-exploration\"></a>"
   ]
  },
  {
   "cell_type": "markdown",
   "metadata": {},
   "source": [
    "[Go back to the top](#TOC)"
   ]
  },
  {
   "cell_type": "code",
   "execution_count": 5,
   "metadata": {},
   "outputs": [
    {
     "data": {
      "text/html": [
       "<div>\n",
       "<style scoped>\n",
       "    .dataframe tbody tr th:only-of-type {\n",
       "        vertical-align: middle;\n",
       "    }\n",
       "\n",
       "    .dataframe tbody tr th {\n",
       "        vertical-align: top;\n",
       "    }\n",
       "\n",
       "    .dataframe thead th {\n",
       "        text-align: right;\n",
       "    }\n",
       "</style>\n",
       "<table border=\"1\" class=\"dataframe\">\n",
       "  <thead>\n",
       "    <tr style=\"text-align: right;\">\n",
       "      <th></th>\n",
       "      <th>0</th>\n",
       "      <th>1</th>\n",
       "    </tr>\n",
       "  </thead>\n",
       "  <tbody>\n",
       "    <tr>\n",
       "      <th>0</th>\n",
       "      <td>http://counterterror.mindswap.org/2005/ict_eve...</td>\n",
       "      <td>http://counterterror.mindswap.org/2005/ict_eve...</td>\n",
       "    </tr>\n",
       "    <tr>\n",
       "      <th>1</th>\n",
       "      <td>http://counterterror.mindswap.org/2005/ict_eve...</td>\n",
       "      <td>http://counterterror.mindswap.org/2005/ict_eve...</td>\n",
       "    </tr>\n",
       "    <tr>\n",
       "      <th>2</th>\n",
       "      <td>http://counterterror.mindswap.org/2005/ict_eve...</td>\n",
       "      <td>http://counterterror.mindswap.org/2005/ict_eve...</td>\n",
       "    </tr>\n",
       "    <tr>\n",
       "      <th>3</th>\n",
       "      <td>http://counterterror.mindswap.org/2005/ict_eve...</td>\n",
       "      <td>http://counterterror.mindswap.org/2005/ict_eve...</td>\n",
       "    </tr>\n",
       "    <tr>\n",
       "      <th>4</th>\n",
       "      <td>http://counterterror.mindswap.org/2005/ict_eve...</td>\n",
       "      <td>http://counterterror.mindswap.org/2005/ict_eve...</td>\n",
       "    </tr>\n",
       "  </tbody>\n",
       "</table>\n",
       "</div>"
      ],
      "text/plain": [
       "                                                   0  \\\n",
       "0  http://counterterror.mindswap.org/2005/ict_eve...   \n",
       "1  http://counterterror.mindswap.org/2005/ict_eve...   \n",
       "2  http://counterterror.mindswap.org/2005/ict_eve...   \n",
       "3  http://counterterror.mindswap.org/2005/ict_eve...   \n",
       "4  http://counterterror.mindswap.org/2005/ict_eve...   \n",
       "\n",
       "                                                   1  \n",
       "0  http://counterterror.mindswap.org/2005/ict_eve...  \n",
       "1  http://counterterror.mindswap.org/2005/ict_eve...  \n",
       "2  http://counterterror.mindswap.org/2005/ict_eve...  \n",
       "3  http://counterterror.mindswap.org/2005/ict_eve...  \n",
       "4  http://counterterror.mindswap.org/2005/ict_eve...  "
      ]
     },
     "execution_count": 5,
     "metadata": {},
     "output_type": "execute_result"
    }
   ],
   "source": [
    "edges.head()"
   ]
  },
  {
   "cell_type": "code",
   "execution_count": 6,
   "metadata": {
    "scrolled": true
   },
   "outputs": [
    {
     "data": {
      "text/plain": [
       "'http://counterterror.mindswap.org/2005/ict_events.owl#Jihad_Group_19961117'"
      ]
     },
     "execution_count": 6,
     "metadata": {},
     "output_type": "execute_result"
    }
   ],
   "source": [
    "edges[0][42]"
   ]
  },
  {
   "cell_type": "markdown",
   "metadata": {},
   "source": [
    "The edges are given by an internet link. However, there are information given inside the link: the name of the organization after `#` in the link and the date of the attack and the end of the link.  \n",
    "  \n",
    "We will extract these information and construct a new data frame."
   ]
  },
  {
   "cell_type": "code",
   "execution_count": 7,
   "metadata": {},
   "outputs": [
    {
     "data": {
      "text/html": [
       "<div>\n",
       "<style scoped>\n",
       "    .dataframe tbody tr th:only-of-type {\n",
       "        vertical-align: middle;\n",
       "    }\n",
       "\n",
       "    .dataframe tbody tr th {\n",
       "        vertical-align: top;\n",
       "    }\n",
       "\n",
       "    .dataframe thead th {\n",
       "        text-align: right;\n",
       "    }\n",
       "</style>\n",
       "<table border=\"1\" class=\"dataframe\">\n",
       "  <thead>\n",
       "    <tr style=\"text-align: right;\">\n",
       "      <th></th>\n",
       "      <th>organization</th>\n",
       "      <th>date</th>\n",
       "    </tr>\n",
       "  </thead>\n",
       "  <tbody>\n",
       "    <tr>\n",
       "      <th>0</th>\n",
       "      <td>United_Popular_Action_Movement</td>\n",
       "      <td>1993-05-13</td>\n",
       "    </tr>\n",
       "    <tr>\n",
       "      <th>1</th>\n",
       "      <td>Unknown</td>\n",
       "      <td>1996-11-12</td>\n",
       "    </tr>\n",
       "    <tr>\n",
       "      <th>2</th>\n",
       "      <td>Unknown</td>\n",
       "      <td>1998-04-28</td>\n",
       "    </tr>\n",
       "    <tr>\n",
       "      <th>3</th>\n",
       "      <td>Kurdistan_Worker_s_Party</td>\n",
       "      <td>1997-03-25</td>\n",
       "    </tr>\n",
       "    <tr>\n",
       "      <th>4</th>\n",
       "      <td>Unknown</td>\n",
       "      <td>1999-03-14</td>\n",
       "    </tr>\n",
       "  </tbody>\n",
       "</table>\n",
       "</div>"
      ],
      "text/plain": [
       "                     organization       date\n",
       "0  United_Popular_Action_Movement 1993-05-13\n",
       "1                         Unknown 1996-11-12\n",
       "2                         Unknown 1998-04-28\n",
       "3        Kurdistan_Worker_s_Party 1997-03-25\n",
       "4                         Unknown 1999-03-14"
      ]
     },
     "execution_count": 7,
     "metadata": {},
     "output_type": "execute_result"
    }
   ],
   "source": [
    "# extract information of date and organization from the link\n",
    "nodes_info = nodes[0].apply(lambda x : (x.split(\"#\"))[1])\n",
    "dates= nodes_info.apply(lambda x : x[-8:])\n",
    "dates = pd.to_datetime(dates, format='%Y%m%d', errors='coerce')\n",
    "organizations = nodes_info.apply(lambda x : x[:-9])\n",
    "\n",
    "attacks_dict = {\"organization\": organizations, \"date\": dates}\n",
    "attacks = pd.DataFrame(attacks_dict)\n",
    "\n",
    "attacks.head()"
   ]
  },
  {
   "cell_type": "markdown",
   "metadata": {},
   "source": [
    "We observe that there are some unknown organizations. We want to know the number of the unknown values."
   ]
  },
  {
   "cell_type": "code",
   "execution_count": 8,
   "metadata": {},
   "outputs": [
    {
     "data": {
      "text/plain": [
       "Unknown                      519\n",
       "Hamas                         99\n",
       "Fatah_Tanzim                  52\n",
       "Palestinian_Islamic_Jihad     50\n",
       "                              48\n",
       "Name: organization, dtype: int64"
      ]
     },
     "execution_count": 8,
     "metadata": {},
     "output_type": "execute_result"
    }
   ],
   "source": [
    "attacks.organization.value_counts().head()"
   ]
  },
  {
   "cell_type": "markdown",
   "metadata": {},
   "source": [
    "That is pretty much. We may predict the organization who is responsible of an attack for those unknown author. First, we check the proportion of attacks that are created by known organizations which create at least 10 attacks. In fact, if an organization only have few rows in the `nodes` dataset, it will be difficult to extract information from the limited rows."
   ]
  },
  {
   "cell_type": "code",
   "execution_count": 9,
   "metadata": {},
   "outputs": [],
   "source": [
    "nb_atk_threshold = 10"
   ]
  },
  {
   "cell_type": "code",
   "execution_count": 10,
   "metadata": {},
   "outputs": [],
   "source": [
    "attacks.organization.replace('', 'Unknown', inplace=True)"
   ]
  },
  {
   "cell_type": "code",
   "execution_count": 11,
   "metadata": {},
   "outputs": [
    {
     "name": "stdout",
     "output_type": "stream",
     "text": [
      "There are 80.30% of known attacks are created by frequent organizations.\n"
     ]
    }
   ],
   "source": [
    "attack_per_org = pd.DataFrame(attacks.organization.value_counts()[1:])\n",
    "attack_per_org.columns=['count']\n",
    "num_attacks = attack_per_org.sum()\n",
    "prop_freq_org = (attack_per_org[attack_per_org['count']>=nb_atk_threshold].sum() / num_attacks )['count']\n",
    "\n",
    "print(\"There are {:.2%} of known attacks are created by frequent organizations.\".format(prop_freq_org))"
   ]
  },
  {
   "cell_type": "markdown",
   "metadata": {},
   "source": [
    "Which seems good for us to predict."
   ]
  },
  {
   "cell_type": "code",
   "execution_count": 12,
   "metadata": {},
   "outputs": [
    {
     "data": {
      "text/html": [
       "<div>\n",
       "<style scoped>\n",
       "    .dataframe tbody tr th:only-of-type {\n",
       "        vertical-align: middle;\n",
       "    }\n",
       "\n",
       "    .dataframe tbody tr th {\n",
       "        vertical-align: top;\n",
       "    }\n",
       "\n",
       "    .dataframe thead th {\n",
       "        text-align: right;\n",
       "    }\n",
       "</style>\n",
       "<table border=\"1\" class=\"dataframe\">\n",
       "  <thead>\n",
       "    <tr style=\"text-align: right;\">\n",
       "      <th></th>\n",
       "      <th>organization</th>\n",
       "      <th>date</th>\n",
       "      <th>1</th>\n",
       "      <th>2</th>\n",
       "      <th>3</th>\n",
       "      <th>4</th>\n",
       "      <th>5</th>\n",
       "      <th>6</th>\n",
       "      <th>7</th>\n",
       "      <th>8</th>\n",
       "      <th>...</th>\n",
       "      <th>98</th>\n",
       "      <th>99</th>\n",
       "      <th>100</th>\n",
       "      <th>101</th>\n",
       "      <th>102</th>\n",
       "      <th>103</th>\n",
       "      <th>104</th>\n",
       "      <th>105</th>\n",
       "      <th>106</th>\n",
       "      <th>107</th>\n",
       "    </tr>\n",
       "  </thead>\n",
       "  <tbody>\n",
       "    <tr>\n",
       "      <th>0</th>\n",
       "      <td>United_Popular_Action_Movement</td>\n",
       "      <td>1993-05-13</td>\n",
       "      <td>0</td>\n",
       "      <td>0</td>\n",
       "      <td>0</td>\n",
       "      <td>0</td>\n",
       "      <td>0</td>\n",
       "      <td>0</td>\n",
       "      <td>0</td>\n",
       "      <td>0</td>\n",
       "      <td>...</td>\n",
       "      <td>0</td>\n",
       "      <td>0</td>\n",
       "      <td>0</td>\n",
       "      <td>0</td>\n",
       "      <td>0</td>\n",
       "      <td>0</td>\n",
       "      <td>0</td>\n",
       "      <td>0</td>\n",
       "      <td>0</td>\n",
       "      <td>http://counterterror.mindswap.org/2005/terrori...</td>\n",
       "    </tr>\n",
       "    <tr>\n",
       "      <th>1</th>\n",
       "      <td>Unknown</td>\n",
       "      <td>1996-11-12</td>\n",
       "      <td>0</td>\n",
       "      <td>0</td>\n",
       "      <td>0</td>\n",
       "      <td>0</td>\n",
       "      <td>0</td>\n",
       "      <td>0</td>\n",
       "      <td>0</td>\n",
       "      <td>0</td>\n",
       "      <td>...</td>\n",
       "      <td>1</td>\n",
       "      <td>0</td>\n",
       "      <td>0</td>\n",
       "      <td>0</td>\n",
       "      <td>0</td>\n",
       "      <td>0</td>\n",
       "      <td>0</td>\n",
       "      <td>0</td>\n",
       "      <td>0</td>\n",
       "      <td>http://counterterror.mindswap.org/2005/terrori...</td>\n",
       "    </tr>\n",
       "    <tr>\n",
       "      <th>2</th>\n",
       "      <td>Unknown</td>\n",
       "      <td>1998-04-28</td>\n",
       "      <td>0</td>\n",
       "      <td>0</td>\n",
       "      <td>0</td>\n",
       "      <td>0</td>\n",
       "      <td>0</td>\n",
       "      <td>0</td>\n",
       "      <td>0</td>\n",
       "      <td>0</td>\n",
       "      <td>...</td>\n",
       "      <td>0</td>\n",
       "      <td>0</td>\n",
       "      <td>0</td>\n",
       "      <td>0</td>\n",
       "      <td>0</td>\n",
       "      <td>0</td>\n",
       "      <td>0</td>\n",
       "      <td>0</td>\n",
       "      <td>0</td>\n",
       "      <td>http://counterterror.mindswap.org/2005/terrori...</td>\n",
       "    </tr>\n",
       "    <tr>\n",
       "      <th>3</th>\n",
       "      <td>Kurdistan_Worker_s_Party</td>\n",
       "      <td>1997-03-25</td>\n",
       "      <td>0</td>\n",
       "      <td>0</td>\n",
       "      <td>0</td>\n",
       "      <td>0</td>\n",
       "      <td>0</td>\n",
       "      <td>0</td>\n",
       "      <td>0</td>\n",
       "      <td>0</td>\n",
       "      <td>...</td>\n",
       "      <td>0</td>\n",
       "      <td>0</td>\n",
       "      <td>0</td>\n",
       "      <td>0</td>\n",
       "      <td>0</td>\n",
       "      <td>0</td>\n",
       "      <td>0</td>\n",
       "      <td>0</td>\n",
       "      <td>0</td>\n",
       "      <td>http://counterterror.mindswap.org/2005/terrori...</td>\n",
       "    </tr>\n",
       "    <tr>\n",
       "      <th>4</th>\n",
       "      <td>Unknown</td>\n",
       "      <td>1999-03-14</td>\n",
       "      <td>0</td>\n",
       "      <td>0</td>\n",
       "      <td>0</td>\n",
       "      <td>0</td>\n",
       "      <td>0</td>\n",
       "      <td>0</td>\n",
       "      <td>0</td>\n",
       "      <td>0</td>\n",
       "      <td>...</td>\n",
       "      <td>0</td>\n",
       "      <td>1</td>\n",
       "      <td>0</td>\n",
       "      <td>0</td>\n",
       "      <td>0</td>\n",
       "      <td>0</td>\n",
       "      <td>0</td>\n",
       "      <td>0</td>\n",
       "      <td>0</td>\n",
       "      <td>http://counterterror.mindswap.org/2005/terrori...</td>\n",
       "    </tr>\n",
       "  </tbody>\n",
       "</table>\n",
       "<p>5 rows × 109 columns</p>\n",
       "</div>"
      ],
      "text/plain": [
       "                     organization       date  1  2  3  4  5  6  7  8  \\\n",
       "0  United_Popular_Action_Movement 1993-05-13  0  0  0  0  0  0  0  0   \n",
       "1                         Unknown 1996-11-12  0  0  0  0  0  0  0  0   \n",
       "2                         Unknown 1998-04-28  0  0  0  0  0  0  0  0   \n",
       "3        Kurdistan_Worker_s_Party 1997-03-25  0  0  0  0  0  0  0  0   \n",
       "4                         Unknown 1999-03-14  0  0  0  0  0  0  0  0   \n",
       "\n",
       "                         ...                          98  99  100  101  102  \\\n",
       "0                        ...                           0   0    0    0    0   \n",
       "1                        ...                           1   0    0    0    0   \n",
       "2                        ...                           0   0    0    0    0   \n",
       "3                        ...                           0   0    0    0    0   \n",
       "4                        ...                           0   1    0    0    0   \n",
       "\n",
       "   103  104  105  106                                                107  \n",
       "0    0    0    0    0  http://counterterror.mindswap.org/2005/terrori...  \n",
       "1    0    0    0    0  http://counterterror.mindswap.org/2005/terrori...  \n",
       "2    0    0    0    0  http://counterterror.mindswap.org/2005/terrori...  \n",
       "3    0    0    0    0  http://counterterror.mindswap.org/2005/terrori...  \n",
       "4    0    0    0    0  http://counterterror.mindswap.org/2005/terrori...  \n",
       "\n",
       "[5 rows x 109 columns]"
      ]
     },
     "execution_count": 12,
     "metadata": {},
     "output_type": "execute_result"
    }
   ],
   "source": [
    "# concatenate features into the dataframe of attacks\n",
    "attacks = pd.concat([attacks, nodes.iloc[:, 1:]], axis=1)\n",
    "attacks.head()"
   ]
  },
  {
   "cell_type": "code",
   "execution_count": 13,
   "metadata": {},
   "outputs": [],
   "source": [
    "ls = sorted(attacks.date[attacks.date.notna()])"
   ]
  },
  {
   "cell_type": "markdown",
   "metadata": {},
   "source": [
    "We will now also have a look on the number of attacks w.r.t time. "
   ]
  },
  {
   "cell_type": "code",
   "execution_count": 14,
   "metadata": {},
   "outputs": [
    {
     "name": "stdout",
     "output_type": "stream",
     "text": [
      "Our data contains attacks start from year 1969 till 2002\n"
     ]
    }
   ],
   "source": [
    "attack_year = [t.year for t in ls]\n",
    "\n",
    "print(\"Our data contains attacks start from year {} till {}\"\n",
    "      .format(min(set(attack_year)), max(set(attack_year))))"
   ]
  },
  {
   "cell_type": "code",
   "execution_count": 15,
   "metadata": {},
   "outputs": [
    {
     "name": "stderr",
     "output_type": "stream",
     "text": [
      "/home/painguin/anaconda3/lib/python3.6/site-packages/matplotlib/axes/_axes.py:6462: UserWarning: The 'normed' kwarg is deprecated, and has been replaced by the 'density' kwarg.\n",
      "  warnings.warn(\"The 'normed' kwarg is deprecated, and has been \"\n"
     ]
    },
    {
     "data": {
      "image/png": "[encoded data removed]",
      "text/plain": [
       "<Figure size 432x288 with 1 Axes>"
      ]
     },
     "metadata": {},
     "output_type": "display_data"
    }
   ],
   "source": [
    "sns.distplot(attack_year, bins=34)\n",
    "plt.title('Histogram of attacks per year')\n",
    "plt.xlim([1969,2002]);"
   ]
  },
  {
   "cell_type": "code",
   "execution_count": 16,
   "metadata": {},
   "outputs": [
    {
     "name": "stderr",
     "output_type": "stream",
     "text": [
      "/home/painguin/anaconda3/lib/python3.6/site-packages/matplotlib/axes/_axes.py:6462: UserWarning: The 'normed' kwarg is deprecated, and has been replaced by the 'density' kwarg.\n",
      "  warnings.warn(\"The 'normed' kwarg is deprecated, and has been \"\n"
     ]
    },
    {
     "data": {
      "image/png": "[encoded data removed]",
      "text/plain": [
       "<Figure size 432x288 with 1 Axes>"
      ]
     },
     "metadata": {},
     "output_type": "display_data"
    }
   ],
   "source": [
    "attack_month = [t.month for t in ls]\n",
    "\n",
    "sns.distplot(attack_month, bins=12, kde=False)\n",
    "plt.title('Histogram of attacks per month');"
   ]
  },
  {
   "cell_type": "code",
   "execution_count": 17,
   "metadata": {},
   "outputs": [],
   "source": [
    "features_adjacency = np.exp(-squareform(pdist(nodes.drop([0, 107], axis=1))))"
   ]
  },
  {
   "cell_type": "code",
   "execution_count": 18,
   "metadata": {},
   "outputs": [],
   "source": [
    "# put the diagonal values to 0\n",
    "features_adjacency[(range(n_nodes), range(n_nodes))] = 0"
   ]
  },
  {
   "cell_type": "code",
   "execution_count": 19,
   "metadata": {},
   "outputs": [
    {
     "data": {
      "image/png": "[encoded data removed]",
      "text/plain": [
       "<Figure size 432x288 with 1 Axes>"
      ]
     },
     "metadata": {},
     "output_type": "display_data"
    }
   ],
   "source": [
    "plt.hist(features_adjacency[features_adjacency < 0.2].ravel(), bins=50);"
   ]
  },
  {
   "cell_type": "code",
   "execution_count": 20,
   "metadata": {},
   "outputs": [],
   "source": [
    "# sparsify the matrix (and unconnect the graph) by removing small weights\n",
    "features_adjacency[features_adjacency < 0.05] = 0 "
   ]
  },
  {
   "cell_type": "code",
   "execution_count": 21,
   "metadata": {},
   "outputs": [],
   "source": [
    "n_nodes = len(nodes)"
   ]
  },
  {
   "cell_type": "code",
   "execution_count": 22,
   "metadata": {},
   "outputs": [],
   "source": [
    "coloc_adjacency = np.zeros((n_nodes, n_nodes), dtype=int)\n",
    "for idx, row in edges.iterrows():\n",
    "    n1, n2 = row # retrieve the nodes from the edge\n",
    "    idx_n1 = nodes[nodes[0] == n1].index[0]\n",
    "    idx_n2 = nodes[nodes[0] == n2].index[0]\n",
    "    \n",
    "    # increment by one in (n1, n2) and (n2, n1) entries\n",
    "    coloc_adjacency[idx_n1, idx_n2] += 1\n",
    "    coloc_adjacency[idx_n2, idx_n1] += 1\n",
    "\n",
    "coloc_org_adjacency = np.zeros((n_nodes, n_nodes), dtype=int)\n",
    "for idx, row in edges_org.iterrows():\n",
    "    n1, n2 = row # retrieve the nodes from the edge\n",
    "    idx_n1 = nodes[nodes[0] == n1].index[0]\n",
    "    idx_n2 = nodes[nodes[0] == n2].index[0]\n",
    "    \n",
    "    # increment by one in (n1, n2) and (n2, n1) entries\n",
    "    coloc_org_adjacency[idx_n1, idx_n2] += 1\n",
    "    coloc_org_adjacency[idx_n2, idx_n1] += 1"
   ]
  },
  {
   "cell_type": "code",
   "execution_count": 23,
   "metadata": {},
   "outputs": [
    {
     "data": {
      "text/plain": [
       "<matplotlib.image.AxesImage at 0x7f510a4222e8>"
      ]
     },
     "execution_count": 23,
     "metadata": {},
     "output_type": "execute_result"
    },
    {
     "data": {
      "image/png": "[encoded data removed]",
      "text/plain": [
       "<Figure size 432x288 with 1 Axes>"
      ]
     },
     "metadata": {},
     "output_type": "display_data"
    }
   ],
   "source": [
    "plt.spy(coloc_adjacency)"
   ]
  },
  {
   "cell_type": "code",
   "execution_count": 24,
   "metadata": {
    "scrolled": true
   },
   "outputs": [
    {
     "data": {
      "text/plain": [
       "<matplotlib.image.AxesImage at 0x7f510a3a4e10>"
      ]
     },
     "execution_count": 24,
     "metadata": {},
     "output_type": "execute_result"
    },
    {
     "data": {
      "image/png": "[encoded data removed]",
      "text/plain": [
       "<Figure size 432x288 with 1 Axes>"
      ]
     },
     "metadata": {},
     "output_type": "display_data"
    }
   ],
   "source": [
    "plt.spy(features_adjacency)"
   ]
  },
  {
   "cell_type": "code",
   "execution_count": 25,
   "metadata": {},
   "outputs": [],
   "source": [
    "# get only the type of attack from last column\n",
    "nodes.iloc[:, -1] = nodes.iloc[:, -1].apply(lambda x: x.split('#')[1])"
   ]
  },
  {
   "cell_type": "markdown",
   "metadata": {},
   "source": [
    "#### Check similarity within organization"
   ]
  },
  {
   "cell_type": "markdown",
   "metadata": {},
   "source": [
    "To see if it is relevant to try to predict the organizations based on the features, we check if the feature distance between attacks of the same organization are smaller than across organizations."
   ]
  },
  {
   "cell_type": "code",
   "execution_count": 26,
   "metadata": {},
   "outputs": [],
   "source": [
    "with_dummies = pd.get_dummies(nodes.iloc[:, 1:])"
   ]
  },
  {
   "cell_type": "code",
   "execution_count": 27,
   "metadata": {},
   "outputs": [],
   "source": [
    "distances = pdist(with_dummies)\n",
    "kernel_width = distances.mean()\n",
    "weights = np.exp(-distances**2 / kernel_width**2)"
   ]
  },
  {
   "cell_type": "code",
   "execution_count": 28,
   "metadata": {},
   "outputs": [],
   "source": [
    "sim_matrix = squareform(weights)"
   ]
  },
  {
   "cell_type": "code",
   "execution_count": 29,
   "metadata": {},
   "outputs": [],
   "source": [
    "diffs = []\n",
    "\n",
    "for i in range(n_nodes):\n",
    "    org = attacks['organization'][i]\n",
    "    sim = sim_matrix[i]\n",
    "    if org != 'Unknown' and attack_per_org.loc[org]['count'] >= 10:\n",
    "        org_indices = attacks[attacks.organization == org].index\n",
    "        diffs += [sim[org_indices].mean() - sim.mean()]"
   ]
  },
  {
   "cell_type": "code",
   "execution_count": 30,
   "metadata": {},
   "outputs": [
    {
     "data": {
      "image/png": "[encoded data removed]",
      "text/plain": [
       "<Figure size 576x288 with 1 Axes>"
      ]
     },
     "metadata": {},
     "output_type": "display_data"
    }
   ],
   "source": [
    "plt.figure(figsize=(8,4))\n",
    "plt.hist(diffs, bins=25)\n",
    "plt.xlim(-max(diffs), max(diffs))\n",
    "plt.ylim((0, 80))\n",
    "plt.vlines(0, 0, 80)\n",
    "plt.title('Global similarity vs organization similarity', size=16)\n",
    "plt.savefig('similarity_difference.png');"
   ]
  },
  {
   "cell_type": "code",
   "execution_count": 31,
   "metadata": {},
   "outputs": [],
   "source": [
    "# only select organizations \n",
    "famous_orgs = attack_per_org[attack_per_org['count'] >= 10]"
   ]
  },
  {
   "cell_type": "markdown",
   "metadata": {},
   "source": [
    "#### Cross-validation"
   ]
  },
  {
   "cell_type": "code",
   "execution_count": 42,
   "metadata": {},
   "outputs": [
    {
     "data": {
      "text/html": [
       "<div>\n",
       "<style scoped>\n",
       "    .dataframe tbody tr th:only-of-type {\n",
       "        vertical-align: middle;\n",
       "    }\n",
       "\n",
       "    .dataframe tbody tr th {\n",
       "        vertical-align: top;\n",
       "    }\n",
       "\n",
       "    .dataframe thead th {\n",
       "        text-align: right;\n",
       "    }\n",
       "</style>\n",
       "<table border=\"1\" class=\"dataframe\">\n",
       "  <thead>\n",
       "    <tr style=\"text-align: right;\">\n",
       "      <th></th>\n",
       "      <th>organization</th>\n",
       "    </tr>\n",
       "  </thead>\n",
       "  <tbody>\n",
       "    <tr>\n",
       "      <th>0</th>\n",
       "      <td>Hamas</td>\n",
       "    </tr>\n",
       "    <tr>\n",
       "      <th>1</th>\n",
       "      <td>Fatah_Tanzim</td>\n",
       "    </tr>\n",
       "    <tr>\n",
       "      <th>2</th>\n",
       "      <td>Palestinian_Islamic_Jihad</td>\n",
       "    </tr>\n",
       "    <tr>\n",
       "      <th>3</th>\n",
       "      <td>Basque_Homeland_and_Freedom</td>\n",
       "    </tr>\n",
       "    <tr>\n",
       "      <th>4</th>\n",
       "      <td>Martyrs_of_al-Aqsa</td>\n",
       "    </tr>\n",
       "  </tbody>\n",
       "</table>\n",
       "</div>"
      ],
      "text/plain": [
       "                  organization\n",
       "0                        Hamas\n",
       "1                 Fatah_Tanzim\n",
       "2    Palestinian_Islamic_Jihad\n",
       "3  Basque_Homeland_and_Freedom\n",
       "4           Martyrs_of_al-Aqsa"
      ]
     },
     "execution_count": 42,
     "metadata": {},
     "output_type": "execute_result"
    }
   ],
   "source": [
    "# create a mapping between the organizations and labels\n",
    "idx_to_org = pd.DataFrame(famous_orgs.index, columns=['organization'])\n",
    "org_to_idx = idx_to_org.reset_index().set_index('organization')\n",
    "\n",
    "idx_to_org.head()"
   ]
  },
  {
   "cell_type": "code",
   "execution_count": 34,
   "metadata": {},
   "outputs": [],
   "source": [
    "X = with_dummies[attacks.organization.apply(lambda x: x in org_to_idx.index)]\n",
    "y = attacks[attacks.organization.apply(lambda x: x in org_to_idx.index)].organization.apply(lambda x: org_to_idx.loc[x])"
   ]
  },
  {
   "cell_type": "code",
   "execution_count": 36,
   "metadata": {},
   "outputs": [],
   "source": [
    "correct = Counter()\n",
    "total = Counter()\n",
    "\n",
    "for train_idx, test_idx in KFold(X.shape[0], 4, shuffle=True, random_state=SEED):\n",
    "    # split the data\n",
    "    X_train = X.iloc[train_idx]\n",
    "    y_train = y.iloc[train_idx]\n",
    "    X_test = X.iloc[test_idx]\n",
    "    y_test = y.iloc[test_idx]\n",
    "    \n",
    "    # fit the model\n",
    "    model = OneVsRestClassifier(LinearSVC(random_state=SEED))\n",
    "    model.fit(X_train, y_train)\n",
    "    \n",
    "    # predict\n",
    "    y_pred = model.predict(X_test)\n",
    "    \n",
    "    y_pred_orgs = idx_to_org.loc[y_pred]\n",
    "    y_test_orgs = idx_to_org.loc[y_test['index']]\n",
    "    \n",
    "    for i in range(len(y_pred)):\n",
    "        y_p = y_pred_orgs.iloc[i].organization\n",
    "        y_t = y_test_orgs.iloc[i].organization\n",
    "\n",
    "        total[y_t] += 1\n",
    "        if y_p == y_t:\n",
    "            correct[y_t] += 1"
   ]
  },
  {
   "cell_type": "code",
   "execution_count": 37,
   "metadata": {},
   "outputs": [],
   "source": [
    "prediction_comparision = pd.DataFrame([correct, total]).T.fillna(0)\n",
    "prediction_comparision.columns = ['correct', 'total']"
   ]
  },
  {
   "cell_type": "code",
   "execution_count": 43,
   "metadata": {},
   "outputs": [
    {
     "name": "stdout",
     "output_type": "stream",
     "text": [
      "With 532 correct predictions from a total of 583 samples, we obtain a success rate of 91.252%.\n"
     ]
    }
   ],
   "source": [
    "correctly_predicted = prediction_comparision.correct.sum()\n",
    "print('With %d correct predictions from a total of %d samples, we obtain a success rate of %.3f%%.'\n",
    "      % (correctly_predicted, y.shape[0], 100 * correctly_predicted / y.shape[0]))"
   ]
  },
  {
   "cell_type": "code",
   "execution_count": 39,
   "metadata": {},
   "outputs": [
    {
     "data": {
      "image/png": "[encoded data removed]",
      "text/plain": [
       "<Figure size 576x720 with 1 Axes>"
      ]
     },
     "metadata": {},
     "output_type": "display_data"
    }
   ],
   "source": [
    "prediction_comparision.sort_values('total').plot.barh(figsize=(8, 10))\n",
    "plt.title('Amount of correctly predicted samples per organization', size=18);"
   ]
  },
  {
   "cell_type": "markdown",
   "metadata": {},
   "source": [
    "For most of the top 19 organizations, the predictions we obtain are very accurate! We observe however that our model has more trouble predicting organizations with few attacks because of the consequently small amount of training data for the organization."
   ]
  },
  {
   "cell_type": "code",
   "execution_count": 44,
   "metadata": {},
   "outputs": [
    {
     "data": {
      "image/png": "[encoded data removed]",
      "text/plain": [
       "<Figure size 864x360 with 1 Axes>"
      ]
     },
     "metadata": {},
     "output_type": "display_data"
    }
   ],
   "source": [
    "(prediction_comparision.correct / prediction_comparision.total).sort_values().plot.bar(figsize=(12,5))\n",
    "plt.title('Ratio of correctly predicted samples per organization', size= 18);"
   ]
  },
  {
   "cell_type": "markdown",
   "metadata": {},
   "source": [
    "#### Predict the unknown organizations"
   ]
  },
  {
   "cell_type": "code",
   "execution_count": 76,
   "metadata": {},
   "outputs": [],
   "source": [
    "X_train = with_dummies[attacks.organization.apply(lambda x: x in org_to_idx.index)]\n",
    "y_train = attacks[attacks.organization.apply(lambda x: x in org_to_idx.index)].organization.apply(lambda x: org_to_idx.loc[x])\n",
    "X_unknown = with_dummies[attacks.organization.apply(lambda x: x in 'Unknown')]\n",
    "\n",
    "model = OneVsRestClassifier(LinearSVC(random_state=SEED))\n",
    "model.fit(X_train, y_train)\n",
    "\n",
    "# predict\n",
    "y_pred = model.predict(X_unknown)\n",
    "y_pred_orgs = idx_to_org.loc[y_pred]"
   ]
  },
  {
   "cell_type": "code",
   "execution_count": 89,
   "metadata": {},
   "outputs": [
    {
     "data": {
      "text/plain": [
       "<matplotlib.axes._subplots.AxesSubplot at 0x7f51098fb710>"
      ]
     },
     "execution_count": 89,
     "metadata": {},
     "output_type": "execute_result"
    },
    {
     "data": {
      "image/png": "[encoded data removed]",
      "text/plain": [
       "<Figure size 432x432 with 1 Axes>"
      ]
     },
     "metadata": {},
     "output_type": "display_data"
    }
   ],
   "source": [
    "y_pred_orgs.organization.value_counts().iloc[::-1].plot.barh(figsize=(6, 6))"
   ]
  }
 ],
 "metadata": {
  "kernelspec": {
   "display_name": "Python 3",
   "language": "python",
   "name": "python3"
  },
  "language_info": {
   "codemirror_mode": {
    "name": "ipython",
    "version": 3
   },
   "file_extension": ".py",
   "mimetype": "text/x-python",
   "name": "python",
   "nbconvert_exporter": "python",
   "pygments_lexer": "ipython3",
   "version": "3.6.5"
  }
 },
 "nbformat": 4,
 "nbformat_minor": 2
}
